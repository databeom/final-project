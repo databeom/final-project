{
 "cells": [
  {
   "cell_type": "code",
   "execution_count": 27,
   "id": "af36e2a2-6a30-4c0e-9f48-72ff1c5b8109",
   "metadata": {},
   "outputs": [],
   "source": [
    "import warnings\n",
    "\n",
    "# 오류 경고 무시하기\n",
    "warnings.filterwarnings(action='ignore')"
   ]
  },
  {
   "cell_type": "markdown",
   "id": "ad2846dd-203c-4777-9dc7-48fdfb0cac4e",
   "metadata": {},
   "source": [
    "# 1. 데이터 불러오기"
   ]
  },
  {
   "cell_type": "code",
   "execution_count": 28,
   "id": "03503c5c-6e84-43c9-922e-c07bf866f85e",
   "metadata": {},
   "outputs": [],
   "source": [
    "import pandas as pd\n",
    "\n",
    "redefined_df = pd.read_csv(\"../input_csv/redefined_df.csv\")\n",
    "\n",
    "# 서비스 업종별 데이터프레임을 딕셔너리 형태로 저장\n",
    "service_type_list = list(redefined_df.서비스_업종_코드_명.unique())\n",
    "service_type_dictionary = {}\n",
    "\n",
    "for serviece in service_type_list:\n",
    "    service_type_dictionary[f\"{serviece}\"] = redefined_df.loc[redefined_df['서비스_업종_코드_명'] == serviece]"
   ]
  },
  {
   "cell_type": "markdown",
   "id": "2c8403c2-c617-41ec-8c67-27cce2138a95",
   "metadata": {},
   "source": [
    "# 2. 지표 관련 처리"
   ]
  },
  {
   "cell_type": "code",
   "execution_count": 31,
   "id": "d45b3f9e-a81f-4ce7-ada8-0783cbf8b8d0",
   "metadata": {},
   "outputs": [
    {
     "ename": "IndentationError",
     "evalue": "unindent does not match any outer indentation level (<tokenize>, line 24)",
     "output_type": "error",
     "traceback": [
      "\u001b[1;36m  File \u001b[1;32m<tokenize>:24\u001b[1;36m\u001b[0m\n\u001b[1;33m    if cluster_index_dict[key].loc[i,'평균'] < 2:\u001b[0m\n\u001b[1;37m    ^\u001b[0m\n\u001b[1;31mIndentationError\u001b[0m\u001b[1;31m:\u001b[0m unindent does not match any outer indentation level\n"
     ]
    }
   ],
   "source": [
    "# 서비스 업종별 데이터프레임의 군집 지표 점수 변수를 생성\n",
    "cluster_index_dict = {}\n",
    "\n",
    "for key, value in service_type_dictionary.items():\n",
    "    cluster_index_dict[f'{key}'] = value.groupby(by=['서비스_업종_코드_명', 'cluster'])[['집객력(점수)', '매출액(점수)', '경쟁업체(점수)', '편의성(점수)', '잠재고객(점수)']]\\\n",
    "                                        .mean()\\\n",
    "                                        .reset_index()\n",
    "\n",
    "# 군집 지표 점수를 바탕으로 각 군집의 등급 변수를 생성\n",
    "for key, value in cluster_index_dict.items():\n",
    "    cluster_index_dict[key]['평균'] = (cluster_index_dict[key]['집객력(점수)'] + cluster_index_dict[key]['매출액(점수)'] + cluster_index_dict[key]['경쟁업체(점수)'] + cluster_index_dict[key]['편의성(점수)'] + cluster_index_dict[key]['잠재고객(점수)'])/5\n",
    "    for i in range(len(cluster_index_dict[key])):\n",
    "        if cluster_index_dict[key].loc[i,'평균'] < 2:\n",
    "            cluster_index_dict[key].loc[i,'등급'] = 'D'\n",
    "        elif cluster_index_dict[key].loc[i,'평균'] < 3:\n",
    "            cluster_index_dict[key].loc[i,'등급'] = 'C'\n",
    "        elif cluster_index_dict[key].loc[i,'평균'] < 4:\n",
    "            cluster_index_dict[key].loc[i,'등급'] = 'B'\n",
    "        else :\n",
    "            cluster_index_dict[key].loc[i,'등급'] = 'A'\n",
    "\n",
    "# 업종별로 나뉘어져 있던 데이터프레임을 하나의 데이터프레임으로 결합\n",
    "cluster_charicteristics_df = pd.concat(cluster_index_dict.values(), ignore_index = True).rename(columns = {\"집객력(점수)\" : \"집객력\",\n",
    "                                                                                         \"매출액(점수)\" : \"매출액\",\n",
    "                                                                                         \"경쟁업체(점수)\" : \"경쟁업체\",\n",
    "                                                                                         \"편의성(점수)\" : \"편의성\",\n",
    "                                                                                         \"잠재고객(점수)\" : \"잠재고객\",})\n",
    "\n",
    "cluster_charicteristics_df\n",
    "\n",
    "cluster_charicteristics_df.to_csv(\"../input_csv/cluster_charicteristics_df.csv\", index = False)"
   ]
  },
  {
   "cell_type": "code",
   "execution_count": null,
   "id": "ea7bd0f2-7645-446d-a596-dc599057f1db",
   "metadata": {},
   "outputs": [],
   "source": [
    "cluster_charicteristics_df"
   ]
  },
  {
   "cell_type": "code",
   "execution_count": null,
   "id": "9a7bd708-290e-446f-9b12-f05b8af3f451",
   "metadata": {},
   "outputs": [],
   "source": []
  }
 ],
 "metadata": {
  "kernelspec": {
   "display_name": "Python 3 (ipykernel)",
   "language": "python",
   "name": "python3"
  },
  "language_info": {
   "codemirror_mode": {
    "name": "ipython",
    "version": 3
   },
   "file_extension": ".py",
   "mimetype": "text/x-python",
   "name": "python",
   "nbconvert_exporter": "python",
   "pygments_lexer": "ipython3",
   "version": "3.11.4"
  }
 },
 "nbformat": 4,
 "nbformat_minor": 5
}
