{
 "cells": [
  {
   "cell_type": "code",
   "execution_count": 1,
   "id": "109fdfe7-ed02-4fb5-8968-5bafe26b260f",
   "metadata": {
    "tags": []
   },
   "outputs": [],
   "source": [
    "import warnings\n",
    "\n",
    "# 오류 경고 무시하기\n",
    "warnings.filterwarnings(action='ignore')"
   ]
  },
  {
   "cell_type": "markdown",
   "id": "0074e632-cce0-4737-af76-72b31dcb6e75",
   "metadata": {},
   "source": [
    "# 1. 데이터 불러오기"
   ]
  },
  {
   "cell_type": "code",
   "execution_count": 2,
   "id": "74859ab6-df96-483b-89bf-edb4f4893389",
   "metadata": {
    "tags": []
   },
   "outputs": [],
   "source": [
    "import pandas as pd\n",
    "import os\n",
    "\n",
    "pd.options.display.float_format = '{:.3f}'.format\n",
    "pd.set_option('display.max_columns', None)\n",
    "\n",
    "PATH = './data/'\n",
    "\n",
    "file_list= os.listdir(PATH)\n",
    "csv_list = list()\n",
    "\n",
    "for file in file_list:\n",
    "    if file.split(\".\")[-1] == 'csv':\n",
    "        csv_list.append(file)\n",
    "data = ['living_popul', 'resident_popul', 'area', 'store', 'working_popul', 'facilitie', 'estimated_sales']\n",
    "\n",
    "for name, file in zip(data, csv_list):\n",
    "    globals()[name] = pd.read_csv(PATH + file, encoding = \"ansi\")\n",
    "\n",
    "store = store.drop(\"Unnamed: 0\", axis = 1)\n",
    "estimated_sales = estimated_sales.drop(\"Unnamed: 0\", axis = 1)"
   ]
  },
  {
   "cell_type": "markdown",
   "id": "5901885f-a889-42ac-9fee-8fa9f5b44cbe",
   "metadata": {},
   "source": [
    "# 2. 데이터 전처리"
   ]
  },
  {
   "cell_type": "markdown",
   "id": "79e8bb0e-e708-4a3c-9a67-50bb25b26956",
   "metadata": {},
   "source": [
    "## 2-0. 시점 통일 / 관광특구 제거"
   ]
  },
  {
   "cell_type": "code",
   "execution_count": 3,
   "id": "f19800b4-e5d3-424a-9940-ff46388e57cf",
   "metadata": {},
   "outputs": [],
   "source": [
    "# 시점 통일\n",
    "years = [20223, 20224, 20231, 20232]\n",
    "\n",
    "living_popul = living_popul[living_popul['기준_년분기_코드'].isin(years)]\n",
    "resident_popul = resident_popul[resident_popul['기준_년분기_코드'].isin(years)]\n",
    "store = store[store['기준_년분기_코드'].isin(years)]\n",
    "working_popul = working_popul[working_popul['기준_년분기_코드'].isin(years)]\n",
    "facilitie = facilitie[facilitie['기준_년분기_코드'].isin(years)]\n",
    "estimated_sales = estimated_sales[estimated_sales['기준_년분기_코드'].isin(years)]\n",
    "\n",
    "# 관광특구 제거\n",
    "living_popul = living_popul[living_popul['상권_구분_코드_명']!='관광특구']\n",
    "resident_popul = resident_popul[resident_popul['상권_구분_코드_명']!='관광특구']\n",
    "store = store[store['상권_구분_코드_명']!='관광특구']\n",
    "working_popul = working_popul[working_popul['상권_구분_코드_명']!='관광특구']\n",
    "facilitie = facilitie[facilitie['상권_구분_코드_명']!='관광특구']\n",
    "estimated_sales = estimated_sales[estimated_sales['상권_구분_코드_명']!='관광특구']"
   ]
  },
  {
   "cell_type": "markdown",
   "id": "0525024b-8424-4996-9ce9-698bdb4c1f95",
   "metadata": {},
   "source": [
    "## 2-1. 길단위인구 전처리"
   ]
  },
  {
   "cell_type": "markdown",
   "id": "37186135-bb96-4682-a1a7-06cca478faa1",
   "metadata": {},
   "source": [
    "### 2-1-1 변수 처리"
   ]
  },
  {
   "cell_type": "code",
   "execution_count": 4,
   "id": "9975c8bc-f7ac-4a62-b362-5e23b18c9b07",
   "metadata": {},
   "outputs": [],
   "source": [
    "# 필요힌 변수 선택\n",
    "living_popul = living_popul[['기준_년분기_코드', '상권_구분_코드_명', '상권_코드_명', '총_유동인구_수', '연령대_10_유동인구_수',\n",
    "                            '연령대_20_유동인구_수', '연령대_30_유동인구_수', '연령대_40_유동인구_수',\n",
    "                            '연령대_50_유동인구_수', '연령대_60_이상_유동인구_수']]"
   ]
  },
  {
   "cell_type": "markdown",
   "id": "92f4cdbc-0712-4e1d-ac90-05b3db6d9cb3",
   "metadata": {},
   "source": [
    "### 2-1-3. 분기별 데이터 연도 기준 변환"
   ]
  },
  {
   "cell_type": "code",
   "execution_count": 5,
   "id": "0d4fcca0-7145-467a-ac67-1f092f6c034c",
   "metadata": {},
   "outputs": [],
   "source": [
    "living_popul_year = living_popul.drop('기준_년분기_코드', axis = 1)\\\n",
    "                                .groupby(['상권_구분_코드_명','상권_코드_명'],as_index = False)\\\n",
    "                                .mean()"
   ]
  },
  {
   "cell_type": "markdown",
   "id": "3ba89b1b-7f37-4111-9a0d-4244a2c9c0ab",
   "metadata": {},
   "source": [
    "## 2-2. 상주인구 전처리"
   ]
  },
  {
   "cell_type": "markdown",
   "id": "5e178686-c465-4e21-8116-e8ca50a36e32",
   "metadata": {},
   "source": [
    "### 2-2-1. 변수 처리"
   ]
  },
  {
   "cell_type": "code",
   "execution_count": 6,
   "id": "2aee1981-9613-44ba-b702-60c28c38c056",
   "metadata": {},
   "outputs": [],
   "source": [
    "# 필요한 변수 선택\n",
    "resident_popul = resident_popul[['기준_년분기_코드', '상권_구분_코드_명', '상권_코드_명', '총_상주인구_수',\n",
    "                                '연령대_10_상주인구_수', '연령대_20_상주인구_수', '연령대_30_상주인구_수', '연령대_40_상주인구_수',\n",
    "                                '연령대_50_상주인구_수', '연령대_60_이상_상주인구_수']]"
   ]
  },
  {
   "cell_type": "markdown",
   "id": "0604e98d-4d10-40c5-bfde-e1aabfd08e06",
   "metadata": {},
   "source": [
    "### 2-2-3. 분기별 데이터 연도 기준 변환"
   ]
  },
  {
   "cell_type": "code",
   "execution_count": 7,
   "id": "a4403892-afd5-453e-8b5d-9046173faeef",
   "metadata": {},
   "outputs": [],
   "source": [
    "resident_popul_year = resident_popul[resident_popul['기준_년분기_코드'] == 20232].drop(['기준_년분기_코드'],axis=1)"
   ]
  },
  {
   "cell_type": "markdown",
   "id": "e413c76f-50c3-4d3c-9464-bccd3092e63d",
   "metadata": {},
   "source": [
    "## 2-3. 점포 전처리"
   ]
  },
  {
   "cell_type": "markdown",
   "id": "765ddf14-ff83-4f35-aab7-57fdaa31eeaf",
   "metadata": {},
   "source": [
    "### 2-3-1. 변수 처리"
   ]
  },
  {
   "cell_type": "code",
   "execution_count": 8,
   "id": "e3480f83-6354-4ad3-98a4-2be528b19b71",
   "metadata": {},
   "outputs": [],
   "source": [
    "# 필요한 변수 선택\n",
    "store = store[['기준_년분기_코드', '상권_구분_코드_명', '상권_코드_명', '서비스_업종_코드_명',\n",
    "              '유사_업종_점포_수']]"
   ]
  },
  {
   "cell_type": "markdown",
   "id": "dda2f121-a1b4-4250-8f80-2a7c00b497ad",
   "metadata": {},
   "source": [
    "### 2-3-2. 분기별 데이터 연도 기준 변환"
   ]
  },
  {
   "cell_type": "code",
   "execution_count": 9,
   "id": "f7a66803-813d-495c-bf12-b3fb9ff11a3d",
   "metadata": {},
   "outputs": [],
   "source": [
    "store_year = store[store['기준_년분기_코드'] == 20232].drop('기준_년분기_코드', axis = 1)\\\n",
    "                                                    .groupby(['상권_구분_코드_명', '상권_코드_명', '서비스_업종_코드_명'], as_index = False)\\\n",
    "                                                    .sum()"
   ]
  },
  {
   "cell_type": "markdown",
   "id": "9c952a9c-1e23-4e90-b395-0daef28e624c",
   "metadata": {},
   "source": [
    "## 2-4. 직장인구 전처리"
   ]
  },
  {
   "cell_type": "markdown",
   "id": "35081396-4245-4919-b3d9-1c1128bf753b",
   "metadata": {},
   "source": [
    "### 2-4-1. 변수 처리"
   ]
  },
  {
   "cell_type": "code",
   "execution_count": 10,
   "id": "c354895f-554c-450f-96ce-e0d8646aff27",
   "metadata": {},
   "outputs": [],
   "source": [
    "working_popul = working_popul[['기준_년분기_코드', '상권_구분_코드_명', '상권_코드_명', '총_직장_인구_수',\n",
    "                              '연령대_10_직장_인구_수', '연령대_20_직장_인구_수', '연령대_30_직장_인구_수',\n",
    "                              '연령대_40_직장_인구_수', '연령대_50_직장_인구_수', '연령대_60_이상_직장_인구_수']]"
   ]
  },
  {
   "cell_type": "markdown",
   "id": "6e7d78c6-f599-4c5f-b321-5656b240680f",
   "metadata": {},
   "source": [
    "### 2-4-3. 분기별 데이터 연도 기준 변환"
   ]
  },
  {
   "cell_type": "code",
   "execution_count": 11,
   "id": "800d9ad1-d0ff-4a62-8c14-dd03882f2ac8",
   "metadata": {},
   "outputs": [],
   "source": [
    "working_popul_year = working_popul[working_popul['기준_년분기_코드'] == 20232].drop(['기준_년분기_코드'],axis=1)"
   ]
  },
  {
   "cell_type": "markdown",
   "id": "52282b12-ffcf-4788-b876-3142fa2bf9d2",
   "metadata": {},
   "source": [
    "## 2-5. 집객시설 전처리"
   ]
  },
  {
   "cell_type": "markdown",
   "id": "2a217460-cdd5-43e6-b8a3-0cefe56a2248",
   "metadata": {},
   "source": [
    "### 2-5-1. 변수 처리"
   ]
  },
  {
   "cell_type": "code",
   "execution_count": 12,
   "id": "d8ba6066-7044-45de-8de0-b73d57320307",
   "metadata": {},
   "outputs": [],
   "source": [
    "# 파생변수 생성\n",
    "facilitie['교통시설수'] = facilitie['버스_정거장_수'] + facilitie['지하철_역_수']\n",
    " \n",
    "facilitie['집객시설수'] = facilitie['집객시설_수']-facilitie['교통시설수']\n",
    "\n",
    "# 필요한 변수 선택\n",
    "facilitie = facilitie[['기준_년분기_코드', '상권_구분_코드_명', '상권_코드_명', '집객시설수', '교통시설수' ]]"
   ]
  },
  {
   "cell_type": "code",
   "execution_count": 13,
   "id": "f6c1a10c-aa40-4d65-b092-83ebfee0e64b",
   "metadata": {},
   "outputs": [],
   "source": [
    "# 결측값 0으로 대체\n",
    "facilitie = facilitie.fillna(0)"
   ]
  },
  {
   "cell_type": "markdown",
   "id": "eb0bc5da-886c-40d6-8fc2-6c18bec904b9",
   "metadata": {},
   "source": [
    "### 2-5-3. 분기별 데이터 연도 기준 변환"
   ]
  },
  {
   "cell_type": "code",
   "execution_count": 14,
   "id": "f9cf6338-bbec-4480-9862-a1f8c6e4b4ce",
   "metadata": {},
   "outputs": [],
   "source": [
    "facilitie_year = facilitie[facilitie['기준_년분기_코드'] == 20232].drop(['기준_년분기_코드'], axis = 1)"
   ]
  },
  {
   "cell_type": "markdown",
   "id": "a0842bcb-7607-4b9e-aa31-e765312d0220",
   "metadata": {},
   "source": [
    "## 2-6. 추정매출 전처리"
   ]
  },
  {
   "cell_type": "markdown",
   "id": "31e16064-7913-4c4f-bc65-c1f2a711acbb",
   "metadata": {},
   "source": [
    "### 2-6-1. 변수 처리"
   ]
  },
  {
   "cell_type": "code",
   "execution_count": 15,
   "id": "b77b215f-d9dd-4f5a-97da-77205adc25dd",
   "metadata": {},
   "outputs": [],
   "source": [
    "# 필요한 변수 선택\n",
    "estimated_sales = estimated_sales[['기준_년분기_코드', '상권_구분_코드_명', '상권_코드_명', \n",
    "                                  '서비스_업종_코드_명', '당월_매출_금액', '연령대_10_매출_금액',\n",
    "                                  '연령대_20_매출_금액', '연령대_30_매출_금액', '연령대_40_매출_금액',\n",
    "                                  '연령대_50_매출_금액', '연령대_60_이상_매출_금액']]"
   ]
  },
  {
   "cell_type": "markdown",
   "id": "0c35f4f5-50b5-4cc5-b7da-677300d29a10",
   "metadata": {},
   "source": [
    "### 2-6-3. 분기별 데이터 연도 기준 변환"
   ]
  },
  {
   "cell_type": "code",
   "execution_count": 16,
   "id": "4a60b178-769b-4d8a-b556-385c494aa329",
   "metadata": {},
   "outputs": [],
   "source": [
    "estimated_sales_year = estimated_sales.drop(columns = ['기준_년분기_코드'])\\\n",
    "                                      .groupby(['상권_구분_코드_명', '상권_코드_명', '서비스_업종_코드_명'])\\\n",
    "                                      .mean()\\\n",
    "                                      .reset_index()"
   ]
  },
  {
   "cell_type": "markdown",
   "id": "f434b997-5814-48f4-918a-fb6bfe1ddf24",
   "metadata": {},
   "source": [
    "## 2-7. 영역 전처리"
   ]
  },
  {
   "cell_type": "markdown",
   "id": "5cec076d-93b7-43ed-acc4-f06727f1dedb",
   "metadata": {},
   "source": [
    "### 2-7-1. 변수처리"
   ]
  },
  {
   "cell_type": "code",
   "execution_count": 17,
   "id": "92de23a3-cc5e-4b92-b29f-8c5660038836",
   "metadata": {},
   "outputs": [],
   "source": [
    "area = area[['상권_구분_코드_명', '상권_코드_명', '자치구_코드_명']]"
   ]
  },
  {
   "cell_type": "markdown",
   "id": "d9d5ac92-b209-4404-927e-ef3c402e42da",
   "metadata": {},
   "source": [
    "## 2-7. 데이터 병합"
   ]
  },
  {
   "cell_type": "code",
   "execution_count": 18,
   "id": "0fe77e2d-9652-4250-8bb3-55a9ae46cfcc",
   "metadata": {},
   "outputs": [],
   "source": [
    "preprocessed_df = pd.merge(living_popul_year, resident_popul_year)\n",
    "preprocessed_df = pd.merge(preprocessed_df, store_year)\n",
    "preprocessed_df = pd.merge(preprocessed_df, working_popul_year)\n",
    "preprocessed_df = pd.merge(preprocessed_df, facilitie_year)\n",
    "preprocessed_df = pd.merge(preprocessed_df, estimated_sales_year)\n",
    "preprocessed_df = pd.merge(preprocessed_df, area)"
   ]
  },
  {
   "cell_type": "markdown",
   "id": "17c4396c-0dfb-47a8-9ef1-f4ba6201d260",
   "metadata": {},
   "source": [
    "# 3. 군집화 알고리즘"
   ]
  },
  {
   "cell_type": "code",
   "execution_count": 19,
   "id": "f69a7c92-8031-49bc-9750-0728f0ea138c",
   "metadata": {},
   "outputs": [],
   "source": [
    "import pandas as pd\n",
    "import numpy as np\n",
    "from sklearn.preprocessing import LabelEncoder, StandardScaler\n",
    "from sklearn.cluster import DBSCAN, KMeans\n",
    "\n",
    "def categorization(df):\n",
    "    col_num = list(df.select_dtypes(include = 'number').columns)\n",
    "\n",
    "    for col in col_num:\n",
    "        unique_bin_edges = np.unique(df[col])\n",
    "        \n",
    "        # 중복된 경계를 제거하고 qcut 적용\n",
    "        _, bins = pd.qcut(df[col], \n",
    "                           q=[0, 0.1, 0.2, 0.3, 0.4, 0.5, 0.6, 0.7, 0.8, 0.9, 1],\n",
    "                           labels=False,  # labels를 False로 지정하여 정수형 라벨 생성\n",
    "                           duplicates='drop',\n",
    "                           retbins=True)  # 경계만을 반환하도록 수정\n",
    "        \n",
    "        # 중복된 경계를 제거하고 cut 적용\n",
    "        df[f'{col}_category'] = pd.cut(df[col], bins=bins, labels=False, include_lowest=True)\n",
    "    \n",
    "    df.drop(columns = col_num, inplace = True)\n",
    "\n",
    "def clustering(df):\n",
    "    ### 모델 학습 부분\n",
    "    df_service = list(df['서비스_업종_코드_명'].unique())\n",
    "    train = df[['서비스_업종_코드_명', '집객시설수', '당월_매출_금액', '유사_업종_점포_수', '교통시설수', '총_상주인구_수', '총_유동인구_수', '총_직장_인구_수']]\n",
    "    df_length = 0\n",
    "    #\n",
    "    for i in df_service:\n",
    "        temp = train[train['서비스_업종_코드_명'] == i]\n",
    "\n",
    "        categorization(temp)\n",
    "        \n",
    "        scaler = StandardScaler()\n",
    "        col_num = list(temp.select_dtypes(include = 'number').columns)\n",
    "        temp[col_num] = scaler.fit_transform(temp[col_num])\n",
    "        \n",
    "        col_cat = list(temp.select_dtypes(include = 'object').columns)\n",
    "        le = LabelEncoder()\n",
    "        temp[col_cat] = temp[col_cat].apply(le.fit_transform)\n",
    "        \n",
    "        kmeans = KMeans(n_clusters=4, random_state=2023)\n",
    "        kmeans.fit(temp)\n",
    "        labels = kmeans.predict(temp)\n",
    "        \n",
    "        result = df[df['서비스_업종_코드_명'] == i]\n",
    "        result['cluster'] = labels\n",
    "        result.to_csv(f\"./cluster/{i}.csv\", index = False)"
   ]
  },
  {
   "cell_type": "code",
   "execution_count": 20,
   "id": "e5c899fb-6b19-43c8-82c0-c66c7cdcccc3",
   "metadata": {
    "tags": []
   },
   "outputs": [],
   "source": [
    "preprocessed_df.loc[preprocessed_df['서비스_업종_코드_명'] == '운동/경기용품', ['서비스_업종_코드_명']] = '운동경기용품'\n",
    "clustering(preprocessed_df)"
   ]
  },
  {
   "cell_type": "code",
   "execution_count": null,
   "id": "736f5ffc-4a3b-477f-a65b-06b5621ecae0",
   "metadata": {},
   "outputs": [],
   "source": []
  }
 ],
 "metadata": {
  "kernelspec": {
   "display_name": "Python 3 (ipykernel)",
   "language": "python",
   "name": "python3"
  },
  "language_info": {
   "codemirror_mode": {
    "name": "ipython",
    "version": 3
   },
   "file_extension": ".py",
   "mimetype": "text/x-python",
   "name": "python",
   "nbconvert_exporter": "python",
   "pygments_lexer": "ipython3",
   "version": "3.11.4"
  }
 },
 "nbformat": 4,
 "nbformat_minor": 5
}
