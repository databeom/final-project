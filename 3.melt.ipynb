{
 "cells": [
  {
   "cell_type": "code",
   "execution_count": 1,
   "id": "5c3f3fcb-502e-4af3-b521-0bc1c1bade55",
   "metadata": {},
   "outputs": [],
   "source": [
    "import warnings\n",
    "import pandas as pd\n",
    "import geopandas as gpd\n",
    "import glob\n",
    "import numpy as np\n",
    "# 오류 경고 무시하기\n",
    "warnings.filterwarnings(action='ignore')\n",
    "\n",
    "pd.set_option('display.max_columns', None)\n",
    "# pd.set_option('display.max_rows', None)\n",
    "pd.options.display.float_format = '{:.5f}'.format"
   ]
  },
  {
   "cell_type": "markdown",
   "id": "3af4a3b8-032c-4a23-85d4-f9c75bb8de8a",
   "metadata": {},
   "source": [
    "# 데이터 불러오기"
   ]
  },
  {
   "cell_type": "code",
   "execution_count": 1,
   "id": "0e0cfa4b-3216-4a7a-9db9-30d2eaaef97d",
   "metadata": {},
   "outputs": [],
   "source": [
    "import pandas as pd\n",
    "\n",
    "df = pd.read_csv('./final/pre_melt.csv')"
   ]
  },
  {
   "cell_type": "markdown",
   "id": "317cc805-dee4-439d-a7ce-c7f3b06bab89",
   "metadata": {},
   "source": [
    "# 면적 구하기"
   ]
  },
  {
   "cell_type": "code",
   "execution_count": 3,
   "id": "6e1dfcd0-e8c1-4e47-ba51-30b0ecd02326",
   "metadata": {},
   "outputs": [],
   "source": [
    "from shapely.wkt import loads\n",
    "\n",
    "# Assuming df['geometry'] contains a WKT-formatted POLYGON string\n",
    "df['area'] = df['geometry'].apply(lambda geom_str: loads(geom_str).area if geom_str is not None else None)"
   ]
  },
  {
   "cell_type": "code",
   "execution_count": 4,
   "id": "389ed508-213e-4dbc-b0cc-8660425ab55a",
   "metadata": {},
   "outputs": [],
   "source": [
    "from shapely.wkt import loads\n",
    "\n",
    "# Assuming df['geometry'] contains a WKT-formatted POLYGON string\n",
    "df['area_m2'] = df['geometry'].apply(lambda geom_str: loads(geom_str).area * (111.32**2) * (10**6) if geom_str is not None else None)"
   ]
  },
  {
   "cell_type": "code",
   "execution_count": 5,
   "id": "1f2e8097-2946-4658-90c7-842c21b98b29",
   "metadata": {},
   "outputs": [],
   "source": [
    "from shapely.wkt import loads\n",
    "\n",
    "# Assuming df['geometry'] contains a WKT-formatted POLYGON string\n",
    "df['area_km2'] = df['geometry'].apply(lambda geom_str: loads(geom_str).area * (111.32**2) if geom_str is not None else None)"
   ]
  },
  {
   "cell_type": "markdown",
   "id": "6bac4715-11f8-4bcd-8ec5-5b54ec8e9966",
   "metadata": {},
   "source": [
    "# 필요 컬럼 추출"
   ]
  },
  {
   "cell_type": "code",
   "execution_count": 6,
   "id": "cb6bdb6a-effb-47fe-b309-b4ee509de42a",
   "metadata": {},
   "outputs": [],
   "source": [
    "df_l = df[['자치구', '상권_코드', '서비스_업종_코드_명', 'area_m2', '연령대_10_유동인구_수', '연령대_20_유동인구_수', '연령대_30_유동인구_수', '연령대_40_유동인구_수', '연령대_50_유동인구_수', '연령대_60_이상_유동인구_수', 'cluster']]\n",
    "df_r = df[['자치구', '상권_코드', '서비스_업종_코드_명', 'area_m2', '연령대_10_상주인구_수', '연령대_20_상주인구_수', '연령대_30_상주인구_수', '연령대_40_상주인구_수', '연령대_50_상주인구_수', '연령대_60_이상_상주인구_수', 'cluster']]\n",
    "df_w = df[['자치구', '상권_코드', '서비스_업종_코드_명', 'area_m2', '연령대_10_직장_인구_수', '연령대_20_직장_인구_수', '연령대_30_직장_인구_수', '연령대_40_직장_인구_수', '연령대_50_직장_인구_수', '연령대_60_이상_직장_인구_수', 'cluster']]\n",
    "df_f = df[['자치구', '상권_코드', '서비스_업종_코드_명', 'area_m2', '집객시설수', '교통시설수', 'cluster']]\n",
    "df_s = df[['자치구', '상권_코드', '서비스_업종_코드_명', 'area_m2', '유사_업종_점포_수', 'cluster']]\n",
    "df_e = df[['자치구', '상권_코드', '서비스_업종_코드_명', 'area_m2', '연령대_10_매출_금액', '연령대_20_매출_금액', '연령대_30_매출_금액', '연령대_40_매출_금액', '연령대_50_매출_금액', '연령대_60_이상_매출_금액', 'cluster']]"
   ]
  },
  {
   "cell_type": "markdown",
   "id": "26554067-0db9-434c-a95a-49ffbe333a4f",
   "metadata": {},
   "source": [
    "# 컬럼명 변경 & melt"
   ]
  },
  {
   "cell_type": "code",
   "execution_count": 7,
   "id": "0494c44e-c1c9-4bd8-acf7-aafeff25d1b9",
   "metadata": {},
   "outputs": [],
   "source": [
    "df_l = df_l.rename(columns = {'연령대_10_유동인구_수' : '10대',\n",
    "                              '연령대_20_유동인구_수' : '20대',\n",
    "                              '연령대_30_유동인구_수' : '30대',\n",
    "                              '연령대_40_유동인구_수' : '40대',\n",
    "                              '연령대_50_유동인구_수' : '50대',\n",
    "                              '연령대_60_이상_유동인구_수' : '60대 이상'})\n",
    "\n",
    "df_l = pd.melt(df_l, id_vars = ['자치구', '상권_코드', '서비스_업종_코드_명', 'cluster', 'area_m2'],\n",
    "                var_name = '연령', value_name = '유동인구수')"
   ]
  },
  {
   "cell_type": "code",
   "execution_count": 9,
   "id": "da4b235a-4106-4d7d-b03a-fc20fbc6281f",
   "metadata": {},
   "outputs": [],
   "source": [
    "df_r = df_r.rename(columns = {'연령대_10_상주인구_수' : '10대',\n",
    "                              '연령대_20_상주인구_수' : '20대',\n",
    "                              '연령대_30_상주인구_수' : '30대',\n",
    "                              '연령대_40_상주인구_수' : '40대',\n",
    "                              '연령대_50_상주인구_수' : '50대',\n",
    "                              '연령대_60_이상_상주인구_수' : '60대 이상'})\n",
    "df_r = pd.melt(df_r, id_vars = ['자치구', '상권_코드', '서비스_업종_코드_명', 'cluster', 'area_m2'],\n",
    "                var_name = '연령', value_name = '상주인구수')"
   ]
  },
  {
   "cell_type": "code",
   "execution_count": 11,
   "id": "a96bb7ff-e8af-4c05-859f-2490de9ea6d4",
   "metadata": {},
   "outputs": [],
   "source": [
    "df_w = df_w.rename(columns = {'연령대_10_직장_인구_수' : '10대',\n",
    "                              '연령대_20_직장_인구_수' : '20대',\n",
    "                              '연령대_30_직장_인구_수' : '30대',\n",
    "                              '연령대_40_직장_인구_수' : '40대',\n",
    "                              '연령대_50_직장_인구_수' : '50대',\n",
    "                              '연령대_60_이상_직장_인구_수' : '60대 이상'})\n",
    "\n",
    "df_w = pd.melt(df_w, id_vars = ['자치구', '상권_코드', '서비스_업종_코드_명', 'cluster', 'area_m2'],\n",
    "                var_name = '연령', value_name = '직장인구수')"
   ]
  },
  {
   "cell_type": "code",
   "execution_count": 13,
   "id": "48a4d317-092f-456f-91b8-5db18db85d31",
   "metadata": {},
   "outputs": [],
   "source": [
    "df_e = df_e.rename(columns = {'연령대_10_매출_금액' : '10대',\n",
    "                              '연령대_20_매출_금액' : '20대',\n",
    "                              '연령대_30_매출_금액' : '30대',\n",
    "                              '연령대_40_매출_금액' : '40대',\n",
    "                              '연령대_50_매출_금액' : '50대',\n",
    "                              '연령대_60_이상_매출_금액' : '60대 이상'})\n",
    "\n",
    "df_e = pd.melt(df_e, id_vars = ['자치구', '상권_코드', '서비스_업종_코드_명', 'cluster', 'area_m2'],\n",
    "                var_name = '연령', value_name = '매출금액')"
   ]
  },
  {
   "cell_type": "markdown",
   "id": "1235f821-fb19-46cb-b21c-3bdcdffbe843",
   "metadata": {},
   "source": [
    "# 데이터 병합"
   ]
  },
  {
   "cell_type": "code",
   "execution_count": 15,
   "id": "09180b95-fc61-46f4-83a5-924cbf4177cf",
   "metadata": {},
   "outputs": [],
   "source": [
    "melt_df = pd.merge(df_l, df_r)\n",
    "melt_df = pd.merge(melt_df, df_w)\n",
    "melt_df = pd.merge(melt_df, df_f)\n",
    "melt_df = pd.merge(melt_df, df_s)\n",
    "melt_df = pd.merge(melt_df, df_e)"
   ]
  },
  {
   "cell_type": "markdown",
   "id": "a197cecb-8575-4299-9f49-afcc48e9fb3c",
   "metadata": {},
   "source": [
    "# 단위 면적 구하기"
   ]
  },
  {
   "cell_type": "code",
   "execution_count": 17,
   "id": "2e087390-78ba-434b-a95b-84a6b70ea17a",
   "metadata": {},
   "outputs": [],
   "source": [
    "original_col = ['유동인구수', '상주인구수', '직장인구수', '집객시설수', '교통시설수', '유사_업종_점포_수', '매출금액']\n",
    "area_col = ['단위_유동인구수', '단위_상주인구수', '단위_직장인구수', '단위_집객시설수', '단위_교통시설수', '단위_유사_업종_점포_수', '단위_매출금액']\n",
    "\n",
    "for i, j in zip(original_col, area_col) :\n",
    "    for k in range(len(melt_df)):\n",
    "        if melt_df.loc[k,i] == 0:\n",
    "            melt_df.loc[k,j] = melt_df.loc[k,i]\n",
    "        else :\n",
    "            melt_df.loc[k,j] = melt_df.loc[k,i] / melt_df.loc[k,'area_m2']"
   ]
  },
  {
   "cell_type": "markdown",
   "id": "beb7a650-e71f-4b1a-95e1-417f60dd6ff0",
   "metadata": {},
   "source": [
    "# 표준화 시킨 면적 구하기"
   ]
  },
  {
   "cell_type": "code",
   "execution_count": 19,
   "id": "e2cd27d3-b3da-405c-8549-7f21e00110dc",
   "metadata": {},
   "outputs": [],
   "source": [
    "from sklearn.preprocessing import MinMaxScaler\n",
    "\n",
    "trans_col = ['정규_유동인구수', '정규_상주인구수', '정규_직장인구수', '정규_집객시설수', '정규_교통시설수', '정규_유사_업종_점포_수', '정규_매출금액']\n",
    "\n",
    "scaler = MinMaxScaler()\n",
    "melt_df[trans_col] = scaler.fit_transform(melt_df[area_col])"
   ]
  },
  {
   "cell_type": "code",
   "execution_count": 21,
   "id": "a84b23bc-3080-4935-98b7-b90dfd81b1e1",
   "metadata": {},
   "outputs": [],
   "source": [
    "melt_df.to_csv(\"./final/melt_df_1.csv\", index = False)"
   ]
  }
 ],
 "metadata": {
  "kernelspec": {
   "display_name": "Python 3 (ipykernel)",
   "language": "python",
   "name": "python3"
  },
  "language_info": {
   "codemirror_mode": {
    "name": "ipython",
    "version": 3
   },
   "file_extension": ".py",
   "mimetype": "text/x-python",
   "name": "python",
   "nbconvert_exporter": "python",
   "pygments_lexer": "ipython3",
   "version": "3.11.4"
  }
 },
 "nbformat": 4,
 "nbformat_minor": 5
}
