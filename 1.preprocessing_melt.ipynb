{
 "cells": [
  {
   "cell_type": "code",
   "execution_count": 1,
   "id": "109fdfe7-ed02-4fb5-8968-5bafe26b260f",
   "metadata": {
    "tags": []
   },
   "outputs": [],
   "source": [
    "import warnings\n",
    "\n",
    "# 오류 경고 무시하기\n",
    "warnings.filterwarnings(action='ignore')"
   ]
  },
  {
   "cell_type": "markdown",
   "id": "0074e632-cce0-4737-af76-72b31dcb6e75",
   "metadata": {},
   "source": [
    "# 1. 데이터 불러오기"
   ]
  },
  {
   "cell_type": "code",
   "execution_count": 2,
   "id": "74859ab6-df96-483b-89bf-edb4f4893389",
   "metadata": {
    "tags": []
   },
   "outputs": [],
   "source": [
    "import pandas as pd\n",
    "import os\n",
    "\n",
    "pd.options.display.float_format = '{:.3f}'.format\n",
    "pd.set_option('display.max_columns', None)\n",
    "\n",
    "PATH = './data/'\n",
    "\n",
    "file_list= os.listdir(PATH)\n",
    "csv_list = list()\n",
    "\n",
    "for file in file_list:\n",
    "    if file.split(\".\")[-1] == 'csv':\n",
    "        csv_list.append(file)\n",
    "data = ['living_popul', 'resident_popul', 'area', 'store', 'working_popul', 'facilitie', 'estimated_sales']\n",
    "\n",
    "for name, file in zip(data, csv_list):\n",
    "    globals()[name] = pd.read_csv(PATH + file, encoding = \"ansi\")\n",
    "\n",
    "store = store.drop(\"Unnamed: 0\", axis = 1)\n",
    "estimated_sales = estimated_sales.drop(\"Unnamed: 0\", axis = 1)"
   ]
  },
  {
   "cell_type": "markdown",
   "id": "5901885f-a889-42ac-9fee-8fa9f5b44cbe",
   "metadata": {},
   "source": [
    "# 2. 데이터 전처리"
   ]
  },
  {
   "cell_type": "markdown",
   "id": "79e8bb0e-e708-4a3c-9a67-50bb25b26956",
   "metadata": {},
   "source": [
    "## 2-0. 시점 통일 / 관광특구 제거"
   ]
  },
  {
   "cell_type": "code",
   "execution_count": 3,
   "id": "f19800b4-e5d3-424a-9940-ff46388e57cf",
   "metadata": {},
   "outputs": [],
   "source": [
    "# 시점 통일\n",
    "years = [20223, 20224, 20231, 20232]\n",
    "\n",
    "living_popul = living_popul[living_popul['기준_년분기_코드'].isin(years)]\n",
    "resident_popul = resident_popul[resident_popul['기준_년분기_코드'].isin(years)]\n",
    "store = store[store['기준_년분기_코드'].isin(years)]\n",
    "working_popul = working_popul[working_popul['기준_년분기_코드'].isin(years)]\n",
    "facilitie = facilitie[facilitie['기준_년분기_코드'].isin(years)]\n",
    "estimated_sales = estimated_sales[estimated_sales['기준_년분기_코드'].isin(years)]\n",
    "\n",
    "# 관광특구 제거\n",
    "living_popul = living_popul[living_popul['상권_구분_코드_명']!='관광특구']\n",
    "resident_popul = resident_popul[resident_popul['상권_구분_코드_명']!='관광특구']\n",
    "store = store[store['상권_구분_코드_명']!='관광특구']\n",
    "working_popul = working_popul[working_popul['상권_구분_코드_명']!='관광특구']\n",
    "facilitie = facilitie[facilitie['상권_구분_코드_명']!='관광특구']\n",
    "estimated_sales = estimated_sales[estimated_sales['상권_구분_코드_명']!='관광특구']"
   ]
  },
  {
   "cell_type": "markdown",
   "id": "0525024b-8424-4996-9ce9-698bdb4c1f95",
   "metadata": {},
   "source": [
    "## 2-1. 길단위인구 전처리"
   ]
  },
  {
   "cell_type": "markdown",
   "id": "37186135-bb96-4682-a1a7-06cca478faa1",
   "metadata": {},
   "source": [
    "### 2-1-1 변수 처리"
   ]
  },
  {
   "cell_type": "code",
   "execution_count": 4,
   "id": "9975c8bc-f7ac-4a62-b362-5e23b18c9b07",
   "metadata": {},
   "outputs": [],
   "source": [
    "# 필요힌 변수 선택\n",
    "living_popul = living_popul[['기준_년분기_코드', '상권_구분_코드_명', '상권_코드_명', '연령대_10_유동인구_수',\n",
    "                            '연령대_20_유동인구_수', '연령대_30_유동인구_수', '연령대_40_유동인구_수',\n",
    "                            '연령대_50_유동인구_수', '연령대_60_이상_유동인구_수']]"
   ]
  },
  {
   "cell_type": "code",
   "execution_count": 5,
   "id": "68ac389a-1178-4c5d-8c21-9f370819b855",
   "metadata": {},
   "outputs": [],
   "source": [
    "living_popul = living_popul.rename(columns = {'연령대_10_유동인구_수' : '10대',\n",
    "                                             '연령대_20_유동인구_수' : '20대',\n",
    "                                             '연령대_30_유동인구_수' : '30대',\n",
    "                                             '연령대_40_유동인구_수' : '40대',\n",
    "                                             '연령대_50_유동인구_수' : '50대',\n",
    "                                             '연령대_60_이상_유동인구_수' : '60대 이상'})"
   ]
  },
  {
   "cell_type": "code",
   "execution_count": 6,
   "id": "f37920a7-17af-4f77-a6ff-7b459b3417da",
   "metadata": {},
   "outputs": [],
   "source": [
    "living_popul = pd.melt(living_popul, id_vars = ['기준_년분기_코드', '상권_구분_코드_명', '상권_코드_명'],\n",
    "                      var_name = '연령', value_name = '유동인구수')"
   ]
  },
  {
   "cell_type": "markdown",
   "id": "92f4cdbc-0712-4e1d-ac90-05b3db6d9cb3",
   "metadata": {},
   "source": [
    "### 2-1-3. 분기별 데이터 연도 기준 변환"
   ]
  },
  {
   "cell_type": "code",
   "execution_count": 7,
   "id": "0d4fcca0-7145-467a-ac67-1f092f6c034c",
   "metadata": {},
   "outputs": [],
   "source": [
    "living_popul_year = living_popul.drop('기준_년분기_코드', axis = 1)\\\n",
    "                                .groupby(['상권_구분_코드_명','상권_코드_명', '연령'],as_index = False)\\\n",
    "                                .mean()"
   ]
  },
  {
   "cell_type": "markdown",
   "id": "3ba89b1b-7f37-4111-9a0d-4244a2c9c0ab",
   "metadata": {},
   "source": [
    "## 2-2. 상주인구 전처리"
   ]
  },
  {
   "cell_type": "markdown",
   "id": "5e178686-c465-4e21-8116-e8ca50a36e32",
   "metadata": {},
   "source": [
    "### 2-2-1. 변수 처리"
   ]
  },
  {
   "cell_type": "code",
   "execution_count": 9,
   "id": "2aee1981-9613-44ba-b702-60c28c38c056",
   "metadata": {},
   "outputs": [],
   "source": [
    "# 필요한 변수 선택\n",
    "resident_popul = resident_popul[['기준_년분기_코드', '상권_구분_코드_명', '상권_코드_명',\n",
    "                                '연령대_10_상주인구_수', '연령대_20_상주인구_수', '연령대_30_상주인구_수', '연령대_40_상주인구_수',\n",
    "                                '연령대_50_상주인구_수', '연령대_60_이상_상주인구_수']]"
   ]
  },
  {
   "cell_type": "code",
   "execution_count": 10,
   "id": "0f2877bb-76b6-48d8-9ad3-593b612fcdea",
   "metadata": {},
   "outputs": [],
   "source": [
    "resident_popul = resident_popul.rename(columns = {'연령대_10_상주인구_수' : '10대',\n",
    "                                             '연령대_20_상주인구_수' : '20대',\n",
    "                                             '연령대_30_상주인구_수' : '30대',\n",
    "                                             '연령대_40_상주인구_수' : '40대',\n",
    "                                             '연령대_50_상주인구_수' : '50대',\n",
    "                                             '연령대_60_이상_상주인구_수' : '60대 이상'})"
   ]
  },
  {
   "cell_type": "code",
   "execution_count": 11,
   "id": "ff0c8e7e-f106-4101-b2e8-17407cf00fd4",
   "metadata": {},
   "outputs": [],
   "source": [
    "resident_popul = pd.melt(resident_popul, id_vars = ['기준_년분기_코드', '상권_구분_코드_명', '상권_코드_명'],\n",
    "                      var_name = '연령', value_name = '상주인구수')"
   ]
  },
  {
   "cell_type": "markdown",
   "id": "0604e98d-4d10-40c5-bfde-e1aabfd08e06",
   "metadata": {},
   "source": [
    "### 2-2-3. 분기별 데이터 연도 기준 변환"
   ]
  },
  {
   "cell_type": "code",
   "execution_count": 12,
   "id": "a4403892-afd5-453e-8b5d-9046173faeef",
   "metadata": {},
   "outputs": [],
   "source": [
    "resident_popul_year = resident_popul[resident_popul['기준_년분기_코드'] == 20232].drop(['기준_년분기_코드'],axis=1)"
   ]
  },
  {
   "cell_type": "markdown",
   "id": "e413c76f-50c3-4d3c-9464-bccd3092e63d",
   "metadata": {},
   "source": [
    "## 2-3. 점포 전처리"
   ]
  },
  {
   "cell_type": "markdown",
   "id": "765ddf14-ff83-4f35-aab7-57fdaa31eeaf",
   "metadata": {},
   "source": [
    "### 2-3-1. 변수 처리"
   ]
  },
  {
   "cell_type": "code",
   "execution_count": 14,
   "id": "e3480f83-6354-4ad3-98a4-2be528b19b71",
   "metadata": {},
   "outputs": [],
   "source": [
    "# 필요한 변수 선택\n",
    "store = store[['기준_년분기_코드', '상권_구분_코드_명', '상권_코드_명', '서비스_업종_코드_명',\n",
    "              '유사_업종_점포_수']]"
   ]
  },
  {
   "cell_type": "markdown",
   "id": "dda2f121-a1b4-4250-8f80-2a7c00b497ad",
   "metadata": {},
   "source": [
    "### 2-3-2. 분기별 데이터 연도 기준 변환"
   ]
  },
  {
   "cell_type": "code",
   "execution_count": 15,
   "id": "f7a66803-813d-495c-bf12-b3fb9ff11a3d",
   "metadata": {},
   "outputs": [],
   "source": [
    "store_year = store[store['기준_년분기_코드'] == 20232].drop('기준_년분기_코드', axis = 1)\\\n",
    "                                                    .groupby(['상권_구분_코드_명', '상권_코드_명', '서비스_업종_코드_명'], as_index = False)\\\n",
    "                                                    .sum()"
   ]
  },
  {
   "cell_type": "markdown",
   "id": "9c952a9c-1e23-4e90-b395-0daef28e624c",
   "metadata": {},
   "source": [
    "## 2-4. 직장인구 전처리"
   ]
  },
  {
   "cell_type": "markdown",
   "id": "35081396-4245-4919-b3d9-1c1128bf753b",
   "metadata": {},
   "source": [
    "### 2-4-1. 변수 처리"
   ]
  },
  {
   "cell_type": "code",
   "execution_count": 17,
   "id": "c354895f-554c-450f-96ce-e0d8646aff27",
   "metadata": {},
   "outputs": [],
   "source": [
    "working_popul = working_popul[['기준_년분기_코드', '상권_구분_코드_명', '상권_코드_명',\n",
    "                              '연령대_10_직장_인구_수', '연령대_20_직장_인구_수', '연령대_30_직장_인구_수',\n",
    "                              '연령대_40_직장_인구_수', '연령대_50_직장_인구_수', '연령대_60_이상_직장_인구_수']]"
   ]
  },
  {
   "cell_type": "code",
   "execution_count": 18,
   "id": "ec5f84ff-1027-4296-8778-c80ce618fbfd",
   "metadata": {},
   "outputs": [],
   "source": [
    "working_popul = working_popul.rename(columns = {'연령대_10_직장_인구_수' : '10대',\n",
    "                                             '연령대_20_직장_인구_수' : '20대',\n",
    "                                             '연령대_30_직장_인구_수' : '30대',\n",
    "                                             '연령대_40_직장_인구_수' : '40대',\n",
    "                                             '연령대_50_직장_인구_수' : '50대',\n",
    "                                             '연령대_60_이상_직장_인구_수' : '60대 이상'})"
   ]
  },
  {
   "cell_type": "code",
   "execution_count": 19,
   "id": "776a4279-7652-4b61-a1ac-2083eff821c6",
   "metadata": {},
   "outputs": [],
   "source": [
    "working_popul = pd.melt(working_popul, id_vars = ['기준_년분기_코드', '상권_구분_코드_명', '상권_코드_명'],\n",
    "                      var_name = '연령', value_name = '직장인구수')"
   ]
  },
  {
   "cell_type": "markdown",
   "id": "6e7d78c6-f599-4c5f-b321-5656b240680f",
   "metadata": {},
   "source": [
    "### 2-4-3. 분기별 데이터 연도 기준 변환"
   ]
  },
  {
   "cell_type": "code",
   "execution_count": 20,
   "id": "800d9ad1-d0ff-4a62-8c14-dd03882f2ac8",
   "metadata": {},
   "outputs": [],
   "source": [
    "working_popul_year = working_popul[working_popul['기준_년분기_코드'] == 20232].drop(['기준_년분기_코드'],axis=1)"
   ]
  },
  {
   "cell_type": "markdown",
   "id": "52282b12-ffcf-4788-b876-3142fa2bf9d2",
   "metadata": {},
   "source": [
    "## 2-5. 집객시설 전처리"
   ]
  },
  {
   "cell_type": "markdown",
   "id": "2a217460-cdd5-43e6-b8a3-0cefe56a2248",
   "metadata": {},
   "source": [
    "### 2-5-1. 변수 처리"
   ]
  },
  {
   "cell_type": "code",
   "execution_count": 22,
   "id": "d8ba6066-7044-45de-8de0-b73d57320307",
   "metadata": {},
   "outputs": [],
   "source": [
    "# 파생변수 생성\n",
    "facilitie['교통시설수'] = facilitie['버스_정거장_수'] + facilitie['지하철_역_수']\n",
    " \n",
    "facilitie['집객시설수'] = facilitie['집객시설_수']-facilitie['교통시설수']\n",
    "\n",
    "# 필요한 변수 선택\n",
    "facilitie = facilitie[['기준_년분기_코드', '상권_구분_코드_명', '상권_코드_명', '집객시설수', '교통시설수' ]]"
   ]
  },
  {
   "cell_type": "code",
   "execution_count": 23,
   "id": "f6c1a10c-aa40-4d65-b092-83ebfee0e64b",
   "metadata": {},
   "outputs": [],
   "source": [
    "# 결측값 0으로 대체\n",
    "facilitie = facilitie.fillna(0)"
   ]
  },
  {
   "cell_type": "markdown",
   "id": "eb0bc5da-886c-40d6-8fc2-6c18bec904b9",
   "metadata": {},
   "source": [
    "### 2-5-3. 분기별 데이터 연도 기준 변환"
   ]
  },
  {
   "cell_type": "code",
   "execution_count": 24,
   "id": "f9cf6338-bbec-4480-9862-a1f8c6e4b4ce",
   "metadata": {},
   "outputs": [],
   "source": [
    "facilitie_year = facilitie[facilitie['기준_년분기_코드'] == 20232].drop(['기준_년분기_코드'], axis = 1)"
   ]
  },
  {
   "cell_type": "markdown",
   "id": "a0842bcb-7607-4b9e-aa31-e765312d0220",
   "metadata": {},
   "source": [
    "## 2-6. 추정매출 전처리"
   ]
  },
  {
   "cell_type": "markdown",
   "id": "31e16064-7913-4c4f-bc65-c1f2a711acbb",
   "metadata": {},
   "source": [
    "### 2-6-1. 변수 처리"
   ]
  },
  {
   "cell_type": "code",
   "execution_count": 26,
   "id": "b77b215f-d9dd-4f5a-97da-77205adc25dd",
   "metadata": {},
   "outputs": [],
   "source": [
    "# 필요한 변수 선택\n",
    "estimated_sales = estimated_sales[['기준_년분기_코드', '상권_구분_코드_명', '상권_코드_명', \n",
    "                                  '서비스_업종_코드_명', '연령대_10_매출_금액',\n",
    "                                  '연령대_20_매출_금액', '연령대_30_매출_금액', '연령대_40_매출_금액',\n",
    "                                  '연령대_50_매출_금액', '연령대_60_이상_매출_금액']]"
   ]
  },
  {
   "cell_type": "code",
   "execution_count": 27,
   "id": "71ba1fed-46ff-4da1-9437-eefb10ce3882",
   "metadata": {},
   "outputs": [],
   "source": [
    "estimated_sales = estimated_sales.rename(columns = {'연령대_10_매출_금액' : '10대',\n",
    "                                             '연령대_20_매출_금액' : '20대',\n",
    "                                             '연령대_30_매출_금액' : '30대',\n",
    "                                             '연령대_40_매출_금액' : '40대',\n",
    "                                             '연령대_50_매출_금액' : '50대',\n",
    "                                             '연령대_60_이상_매출_금액' : '60대 이상'})"
   ]
  },
  {
   "cell_type": "code",
   "execution_count": 28,
   "id": "5002f641-cb79-4204-b096-1df6927c7082",
   "metadata": {},
   "outputs": [],
   "source": [
    "estimated_sales = pd.melt(estimated_sales, id_vars = ['기준_년분기_코드', '상권_구분_코드_명', '상권_코드_명', '서비스_업종_코드_명'],\n",
    "                      var_name = '연령', value_name = '매출금액')"
   ]
  },
  {
   "cell_type": "markdown",
   "id": "0c35f4f5-50b5-4cc5-b7da-677300d29a10",
   "metadata": {},
   "source": [
    "### 2-6-3. 분기별 데이터 연도 기준 변환"
   ]
  },
  {
   "cell_type": "code",
   "execution_count": 29,
   "id": "4a60b178-769b-4d8a-b556-385c494aa329",
   "metadata": {},
   "outputs": [],
   "source": [
    "estimated_sales_year = estimated_sales.drop(columns = ['기준_년분기_코드'])\\\n",
    "                                      .groupby(['상권_구분_코드_명', '상권_코드_명', '서비스_업종_코드_명', '연령'])\\\n",
    "                                      .mean()\\\n",
    "                                      .reset_index()"
   ]
  },
  {
   "cell_type": "code",
   "execution_count": 30,
   "id": "52714298-44c5-4949-b45d-0ea514653e6f",
   "metadata": {},
   "outputs": [
    {
     "data": {
      "text/html": [
       "<div>\n",
       "<style scoped>\n",
       "    .dataframe tbody tr th:only-of-type {\n",
       "        vertical-align: middle;\n",
       "    }\n",
       "\n",
       "    .dataframe tbody tr th {\n",
       "        vertical-align: top;\n",
       "    }\n",
       "\n",
       "    .dataframe thead th {\n",
       "        text-align: right;\n",
       "    }\n",
       "</style>\n",
       "<table border=\"1\" class=\"dataframe\">\n",
       "  <thead>\n",
       "    <tr style=\"text-align: right;\">\n",
       "      <th></th>\n",
       "      <th>상권_구분_코드_명</th>\n",
       "      <th>상권_코드_명</th>\n",
       "      <th>서비스_업종_코드_명</th>\n",
       "      <th>연령</th>\n",
       "      <th>매출금액</th>\n",
       "    </tr>\n",
       "  </thead>\n",
       "  <tbody>\n",
       "    <tr>\n",
       "      <th>0</th>\n",
       "      <td>골목상권</td>\n",
       "      <td>4.19민주묘지역 2번</td>\n",
       "      <td>미용실</td>\n",
       "      <td>10대</td>\n",
       "      <td>136012.500</td>\n",
       "    </tr>\n",
       "    <tr>\n",
       "      <th>1</th>\n",
       "      <td>골목상권</td>\n",
       "      <td>4.19민주묘지역 2번</td>\n",
       "      <td>미용실</td>\n",
       "      <td>20대</td>\n",
       "      <td>3947675.500</td>\n",
       "    </tr>\n",
       "    <tr>\n",
       "      <th>2</th>\n",
       "      <td>골목상권</td>\n",
       "      <td>4.19민주묘지역 2번</td>\n",
       "      <td>미용실</td>\n",
       "      <td>30대</td>\n",
       "      <td>7595096.000</td>\n",
       "    </tr>\n",
       "    <tr>\n",
       "      <th>3</th>\n",
       "      <td>골목상권</td>\n",
       "      <td>4.19민주묘지역 2번</td>\n",
       "      <td>미용실</td>\n",
       "      <td>40대</td>\n",
       "      <td>13009877.000</td>\n",
       "    </tr>\n",
       "    <tr>\n",
       "      <th>4</th>\n",
       "      <td>골목상권</td>\n",
       "      <td>4.19민주묘지역 2번</td>\n",
       "      <td>미용실</td>\n",
       "      <td>50대</td>\n",
       "      <td>5901769.750</td>\n",
       "    </tr>\n",
       "    <tr>\n",
       "      <th>...</th>\n",
       "      <td>...</td>\n",
       "      <td>...</td>\n",
       "      <td>...</td>\n",
       "      <td>...</td>\n",
       "      <td>...</td>\n",
       "    </tr>\n",
       "    <tr>\n",
       "      <th>132031</th>\n",
       "      <td>전통시장</td>\n",
       "      <td>흑석시장</td>\n",
       "      <td>한식음식점</td>\n",
       "      <td>20대</td>\n",
       "      <td>21435286.000</td>\n",
       "    </tr>\n",
       "    <tr>\n",
       "      <th>132032</th>\n",
       "      <td>전통시장</td>\n",
       "      <td>흑석시장</td>\n",
       "      <td>한식음식점</td>\n",
       "      <td>30대</td>\n",
       "      <td>21683765.250</td>\n",
       "    </tr>\n",
       "    <tr>\n",
       "      <th>132033</th>\n",
       "      <td>전통시장</td>\n",
       "      <td>흑석시장</td>\n",
       "      <td>한식음식점</td>\n",
       "      <td>40대</td>\n",
       "      <td>37320887.000</td>\n",
       "    </tr>\n",
       "    <tr>\n",
       "      <th>132034</th>\n",
       "      <td>전통시장</td>\n",
       "      <td>흑석시장</td>\n",
       "      <td>한식음식점</td>\n",
       "      <td>50대</td>\n",
       "      <td>45442558.250</td>\n",
       "    </tr>\n",
       "    <tr>\n",
       "      <th>132035</th>\n",
       "      <td>전통시장</td>\n",
       "      <td>흑석시장</td>\n",
       "      <td>한식음식점</td>\n",
       "      <td>60대 이상</td>\n",
       "      <td>42282770.250</td>\n",
       "    </tr>\n",
       "  </tbody>\n",
       "</table>\n",
       "<p>132036 rows × 5 columns</p>\n",
       "</div>"
      ],
      "text/plain": [
       "       상권_구분_코드_명       상권_코드_명 서비스_업종_코드_명      연령         매출금액\n",
       "0            골목상권  4.19민주묘지역 2번         미용실     10대   136012.500\n",
       "1            골목상권  4.19민주묘지역 2번         미용실     20대  3947675.500\n",
       "2            골목상권  4.19민주묘지역 2번         미용실     30대  7595096.000\n",
       "3            골목상권  4.19민주묘지역 2번         미용실     40대 13009877.000\n",
       "4            골목상권  4.19민주묘지역 2번         미용실     50대  5901769.750\n",
       "...           ...           ...         ...     ...          ...\n",
       "132031       전통시장          흑석시장       한식음식점     20대 21435286.000\n",
       "132032       전통시장          흑석시장       한식음식점     30대 21683765.250\n",
       "132033       전통시장          흑석시장       한식음식점     40대 37320887.000\n",
       "132034       전통시장          흑석시장       한식음식점     50대 45442558.250\n",
       "132035       전통시장          흑석시장       한식음식점  60대 이상 42282770.250\n",
       "\n",
       "[132036 rows x 5 columns]"
      ]
     },
     "execution_count": 30,
     "metadata": {},
     "output_type": "execute_result"
    }
   ],
   "source": [
    "estimated_sales_year"
   ]
  },
  {
   "cell_type": "markdown",
   "id": "2d6e2a05-0f0f-460c-8488-763b58b98e57",
   "metadata": {},
   "source": [
    "## 2-7. 영역 전처리"
   ]
  },
  {
   "cell_type": "markdown",
   "id": "79d8e003-58f0-4333-9e59-9ec56d592de6",
   "metadata": {},
   "source": [
    "### 2-7-1. 변수처리"
   ]
  },
  {
   "cell_type": "code",
   "execution_count": 31,
   "id": "77b5ddfd-2806-4af2-8485-523310a8ddd8",
   "metadata": {},
   "outputs": [],
   "source": [
    "area = area[['상권_구분_코드_명', '상권_코드_명', '자치구_코드_명']]"
   ]
  },
  {
   "cell_type": "markdown",
   "id": "d9d5ac92-b209-4404-927e-ef3c402e42da",
   "metadata": {},
   "source": [
    "## 2-7. 데이터 병합"
   ]
  },
  {
   "cell_type": "code",
   "execution_count": 32,
   "id": "0fe77e2d-9652-4250-8bb3-55a9ae46cfcc",
   "metadata": {},
   "outputs": [],
   "source": [
    "preprocessed_df = pd.merge(living_popul_year, resident_popul_year)\n",
    "preprocessed_df = pd.merge(preprocessed_df, store_year)\n",
    "preprocessed_df = pd.merge(preprocessed_df, working_popul_year)\n",
    "preprocessed_df = pd.merge(preprocessed_df, facilitie_year)\n",
    "preprocessed_df = pd.merge(preprocessed_df, estimated_sales_year)\n",
    "preprocessed_df = pd.merge(preprocessed_df, area)"
   ]
  },
  {
   "cell_type": "code",
   "execution_count": 33,
   "id": "df00e527-d3a1-410d-8a6a-5fe1ec4151ea",
   "metadata": {},
   "outputs": [
    {
     "data": {
      "text/html": [
       "<div>\n",
       "<style scoped>\n",
       "    .dataframe tbody tr th:only-of-type {\n",
       "        vertical-align: middle;\n",
       "    }\n",
       "\n",
       "    .dataframe tbody tr th {\n",
       "        vertical-align: top;\n",
       "    }\n",
       "\n",
       "    .dataframe thead th {\n",
       "        text-align: right;\n",
       "    }\n",
       "</style>\n",
       "<table border=\"1\" class=\"dataframe\">\n",
       "  <thead>\n",
       "    <tr style=\"text-align: right;\">\n",
       "      <th></th>\n",
       "      <th>상권_구분_코드_명</th>\n",
       "      <th>상권_코드_명</th>\n",
       "      <th>연령</th>\n",
       "      <th>유동인구수</th>\n",
       "      <th>상주인구수</th>\n",
       "      <th>서비스_업종_코드_명</th>\n",
       "      <th>유사_업종_점포_수</th>\n",
       "      <th>직장인구수</th>\n",
       "      <th>집객시설수</th>\n",
       "      <th>교통시설수</th>\n",
       "      <th>매출금액</th>\n",
       "      <th>자치구_코드_명</th>\n",
       "    </tr>\n",
       "  </thead>\n",
       "  <tbody>\n",
       "    <tr>\n",
       "      <th>0</th>\n",
       "      <td>골목상권</td>\n",
       "      <td>4.19민주묘지역 2번</td>\n",
       "      <td>10대</td>\n",
       "      <td>128381.000</td>\n",
       "      <td>135</td>\n",
       "      <td>미용실</td>\n",
       "      <td>3</td>\n",
       "      <td>0</td>\n",
       "      <td>0.000</td>\n",
       "      <td>0.000</td>\n",
       "      <td>136012.500</td>\n",
       "      <td>강북구</td>\n",
       "    </tr>\n",
       "    <tr>\n",
       "      <th>1</th>\n",
       "      <td>골목상권</td>\n",
       "      <td>4.19민주묘지역 2번</td>\n",
       "      <td>10대</td>\n",
       "      <td>128381.000</td>\n",
       "      <td>135</td>\n",
       "      <td>분식전문점</td>\n",
       "      <td>3</td>\n",
       "      <td>0</td>\n",
       "      <td>0.000</td>\n",
       "      <td>0.000</td>\n",
       "      <td>2272384.000</td>\n",
       "      <td>강북구</td>\n",
       "    </tr>\n",
       "    <tr>\n",
       "      <th>2</th>\n",
       "      <td>골목상권</td>\n",
       "      <td>4.19민주묘지역 2번</td>\n",
       "      <td>10대</td>\n",
       "      <td>128381.000</td>\n",
       "      <td>135</td>\n",
       "      <td>일식음식점</td>\n",
       "      <td>3</td>\n",
       "      <td>0</td>\n",
       "      <td>0.000</td>\n",
       "      <td>0.000</td>\n",
       "      <td>561557.250</td>\n",
       "      <td>강북구</td>\n",
       "    </tr>\n",
       "    <tr>\n",
       "      <th>3</th>\n",
       "      <td>골목상권</td>\n",
       "      <td>4.19민주묘지역 2번</td>\n",
       "      <td>10대</td>\n",
       "      <td>128381.000</td>\n",
       "      <td>135</td>\n",
       "      <td>치킨전문점</td>\n",
       "      <td>3</td>\n",
       "      <td>0</td>\n",
       "      <td>0.000</td>\n",
       "      <td>0.000</td>\n",
       "      <td>208308.750</td>\n",
       "      <td>강북구</td>\n",
       "    </tr>\n",
       "    <tr>\n",
       "      <th>4</th>\n",
       "      <td>골목상권</td>\n",
       "      <td>4.19민주묘지역 2번</td>\n",
       "      <td>10대</td>\n",
       "      <td>128381.000</td>\n",
       "      <td>135</td>\n",
       "      <td>커피-음료</td>\n",
       "      <td>4</td>\n",
       "      <td>0</td>\n",
       "      <td>0.000</td>\n",
       "      <td>0.000</td>\n",
       "      <td>6104389.500</td>\n",
       "      <td>강북구</td>\n",
       "    </tr>\n",
       "    <tr>\n",
       "      <th>...</th>\n",
       "      <td>...</td>\n",
       "      <td>...</td>\n",
       "      <td>...</td>\n",
       "      <td>...</td>\n",
       "      <td>...</td>\n",
       "      <td>...</td>\n",
       "      <td>...</td>\n",
       "      <td>...</td>\n",
       "      <td>...</td>\n",
       "      <td>...</td>\n",
       "      <td>...</td>\n",
       "      <td>...</td>\n",
       "    </tr>\n",
       "    <tr>\n",
       "      <th>130051</th>\n",
       "      <td>전통시장</td>\n",
       "      <td>후암시장</td>\n",
       "      <td>60대 이상</td>\n",
       "      <td>33814.250</td>\n",
       "      <td>305</td>\n",
       "      <td>일반교습학원</td>\n",
       "      <td>3</td>\n",
       "      <td>19</td>\n",
       "      <td>0.000</td>\n",
       "      <td>0.000</td>\n",
       "      <td>0.000</td>\n",
       "      <td>용산구</td>\n",
       "    </tr>\n",
       "    <tr>\n",
       "      <th>130052</th>\n",
       "      <td>전통시장</td>\n",
       "      <td>후암시장</td>\n",
       "      <td>60대 이상</td>\n",
       "      <td>33814.250</td>\n",
       "      <td>305</td>\n",
       "      <td>일반의류</td>\n",
       "      <td>6</td>\n",
       "      <td>19</td>\n",
       "      <td>0.000</td>\n",
       "      <td>0.000</td>\n",
       "      <td>0.000</td>\n",
       "      <td>용산구</td>\n",
       "    </tr>\n",
       "    <tr>\n",
       "      <th>130053</th>\n",
       "      <td>전통시장</td>\n",
       "      <td>후암시장</td>\n",
       "      <td>60대 이상</td>\n",
       "      <td>33814.250</td>\n",
       "      <td>305</td>\n",
       "      <td>컴퓨터및주변장치판매</td>\n",
       "      <td>3</td>\n",
       "      <td>19</td>\n",
       "      <td>0.000</td>\n",
       "      <td>0.000</td>\n",
       "      <td>0.000</td>\n",
       "      <td>용산구</td>\n",
       "    </tr>\n",
       "    <tr>\n",
       "      <th>130054</th>\n",
       "      <td>전통시장</td>\n",
       "      <td>후암시장</td>\n",
       "      <td>60대 이상</td>\n",
       "      <td>33814.250</td>\n",
       "      <td>305</td>\n",
       "      <td>편의점</td>\n",
       "      <td>3</td>\n",
       "      <td>19</td>\n",
       "      <td>0.000</td>\n",
       "      <td>0.000</td>\n",
       "      <td>20101666.000</td>\n",
       "      <td>용산구</td>\n",
       "    </tr>\n",
       "    <tr>\n",
       "      <th>130055</th>\n",
       "      <td>전통시장</td>\n",
       "      <td>후암시장</td>\n",
       "      <td>60대 이상</td>\n",
       "      <td>33814.250</td>\n",
       "      <td>305</td>\n",
       "      <td>한식음식점</td>\n",
       "      <td>16</td>\n",
       "      <td>19</td>\n",
       "      <td>0.000</td>\n",
       "      <td>0.000</td>\n",
       "      <td>66308239.500</td>\n",
       "      <td>용산구</td>\n",
       "    </tr>\n",
       "  </tbody>\n",
       "</table>\n",
       "<p>130056 rows × 12 columns</p>\n",
       "</div>"
      ],
      "text/plain": [
       "       상권_구분_코드_명       상권_코드_명      연령      유동인구수  상주인구수 서비스_업종_코드_명  \\\n",
       "0            골목상권  4.19민주묘지역 2번     10대 128381.000    135         미용실   \n",
       "1            골목상권  4.19민주묘지역 2번     10대 128381.000    135       분식전문점   \n",
       "2            골목상권  4.19민주묘지역 2번     10대 128381.000    135       일식음식점   \n",
       "3            골목상권  4.19민주묘지역 2번     10대 128381.000    135       치킨전문점   \n",
       "4            골목상권  4.19민주묘지역 2번     10대 128381.000    135       커피-음료   \n",
       "...           ...           ...     ...        ...    ...         ...   \n",
       "130051       전통시장          후암시장  60대 이상  33814.250    305      일반교습학원   \n",
       "130052       전통시장          후암시장  60대 이상  33814.250    305        일반의류   \n",
       "130053       전통시장          후암시장  60대 이상  33814.250    305  컴퓨터및주변장치판매   \n",
       "130054       전통시장          후암시장  60대 이상  33814.250    305         편의점   \n",
       "130055       전통시장          후암시장  60대 이상  33814.250    305       한식음식점   \n",
       "\n",
       "        유사_업종_점포_수  직장인구수  집객시설수  교통시설수         매출금액 자치구_코드_명  \n",
       "0                3      0  0.000  0.000   136012.500      강북구  \n",
       "1                3      0  0.000  0.000  2272384.000      강북구  \n",
       "2                3      0  0.000  0.000   561557.250      강북구  \n",
       "3                3      0  0.000  0.000   208308.750      강북구  \n",
       "4                4      0  0.000  0.000  6104389.500      강북구  \n",
       "...            ...    ...    ...    ...          ...      ...  \n",
       "130051           3     19  0.000  0.000        0.000      용산구  \n",
       "130052           6     19  0.000  0.000        0.000      용산구  \n",
       "130053           3     19  0.000  0.000        0.000      용산구  \n",
       "130054           3     19  0.000  0.000 20101666.000      용산구  \n",
       "130055          16     19  0.000  0.000 66308239.500      용산구  \n",
       "\n",
       "[130056 rows x 12 columns]"
      ]
     },
     "execution_count": 33,
     "metadata": {},
     "output_type": "execute_result"
    }
   ],
   "source": [
    "preprocessed_df"
   ]
  },
  {
   "cell_type": "code",
   "execution_count": null,
   "id": "5de0996d-8bc9-4a9f-9f1b-5c226b4dae3a",
   "metadata": {},
   "outputs": [],
   "source": []
  }
 ],
 "metadata": {
  "kernelspec": {
   "display_name": "Python 3 (ipykernel)",
   "language": "python",
   "name": "python3"
  },
  "language_info": {
   "codemirror_mode": {
    "name": "ipython",
    "version": 3
   },
   "file_extension": ".py",
   "mimetype": "text/x-python",
   "name": "python",
   "nbconvert_exporter": "python",
   "pygments_lexer": "ipython3",
   "version": "3.11.4"
  }
 },
 "nbformat": 4,
 "nbformat_minor": 5
}
