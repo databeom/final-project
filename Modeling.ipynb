{
 "cells": [
  {
   "cell_type": "code",
   "execution_count": 35,
   "id": "af6a6ead-a61f-428d-9d23-68978ab8240d",
   "metadata": {},
   "outputs": [],
   "source": [
    "import warnings\n",
    "\n",
    "# 오류 경고 무시하기\n",
    "warnings.filterwarnings(action='ignore')"
   ]
  },
  {
   "cell_type": "code",
   "execution_count": 36,
   "id": "a7983a66-f3f2-4fb7-a8b7-1b737133acbf",
   "metadata": {},
   "outputs": [],
   "source": [
    "import pandas as pd\n",
    "import numpy as np\n",
    "from sklearn.preprocessing import LabelEncoder, StandardScaler\n",
    "from sklearn.cluster import DBSCAN, KMeans\n",
    "\n",
    "def categorization(df):\n",
    "    col_num = list(df.select_dtypes(include = 'number').columns)\n",
    "\n",
    "    for col in col_num:\n",
    "        unique_bin_edges = np.unique(df[col])\n",
    "        \n",
    "        # 중복된 경계를 제거하고 qcut 적용\n",
    "        _, bins = pd.qcut(df[col], \n",
    "                           q=[0, 0.1, 0.2, 0.3, 0.4, 0.5, 0.6, 0.7, 0.8, 0.9, 1],\n",
    "                           labels=False,  # labels를 False로 지정하여 정수형 라벨 생성\n",
    "                           duplicates='drop',\n",
    "                           retbins=True)  # 경계만을 반환하도록 수정\n",
    "        \n",
    "        # 중복된 경계를 제거하고 cut 적용\n",
    "        df[f'{col}_category'] = pd.cut(df[col], bins=bins, labels=False, include_lowest=True)\n",
    "    \n",
    "    df.drop(columns = col_num, inplace = True)\n",
    "\n",
    "def clustering(df):\n",
    "    ### 모델 학습 부분\n",
    "    df_service = list(df['서비스_업종_코드_명'].unique())\n",
    "    train = df[['서비스_업종_코드_명', '집객시설수', '당월_매출_금액', '유사_업종_점포_수', '교통시설수', '총_상주인구_수', '총_유동인구_수', '총_직장_인구_수']]\n",
    "\n",
    "    #\n",
    "    for i in df_service:\n",
    "        temp = train[train['서비스_업종_코드_명'] == i]\n",
    "\n",
    "        categorization(temp)\n",
    "        \n",
    "        scaler = StandardScaler()\n",
    "        col_num = list(temp.select_dtypes(include = 'number').columns)\n",
    "        temp[col_num] = scaler.fit_transform(temp[col_num])\n",
    "        \n",
    "        col_cat = list(temp.select_dtypes(include = 'object').columns)\n",
    "        le = LabelEncoder()\n",
    "        temp[col_cat] = temp[col_cat].apply(le.fit_transform)\n",
    "        \n",
    "        kmeans = KMeans(n_clusters=5, random_state=2023)\n",
    "        kmeans.fit(temp)\n",
    "        labels = kmeans.predict(temp)\n",
    "        \n",
    "        result = df[df['서비스_업종_코드_명'] == i]\n",
    "        result['cluster'] = labels\n",
    "        result.to_csv(f\"C:/Users/Admin/Desktop/최종프로젝트/cluster/{i}.csv\", index = False)\n",
    "    "
   ]
  },
  {
   "cell_type": "code",
   "execution_count": 37,
   "id": "7dcf14e9-8572-4a36-9c1b-047de2ca3212",
   "metadata": {},
   "outputs": [],
   "source": [
    "df = pd.read_csv(\"model_df.csv\")\n",
    "df.loc[df['서비스_업종_코드_명'] == '운동/경기용품', ['서비스_업종_코드_명']] = '운동경기용품'\n",
    "clustering(df)"
   ]
  }
 ],
 "metadata": {
  "kernelspec": {
   "display_name": "Python 3 (ipykernel)",
   "language": "python",
   "name": "python3"
  },
  "language_info": {
   "codemirror_mode": {
    "name": "ipython",
    "version": 3
   },
   "file_extension": ".py",
   "mimetype": "text/x-python",
   "name": "python",
   "nbconvert_exporter": "python",
   "pygments_lexer": "ipython3",
   "version": "3.11.4"
  }
 },
 "nbformat": 4,
 "nbformat_minor": 5
}
